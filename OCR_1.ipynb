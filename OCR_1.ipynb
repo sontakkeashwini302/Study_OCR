{
 "cells": [
  {
   "cell_type": "code",
   "execution_count": 20,
   "id": "78beb0b5-1d7a-4c9c-b788-6ff235b54d7c",
   "metadata": {},
   "outputs": [
    {
     "name": "stdout",
     "output_type": "stream",
     "text": [
      "Extracted Text:\n",
      " 06/10/2021\n",
      "\n",
      "Compan . INVO-005\n",
      "kent’, = Sample Invoice\n",
      "Billing Information Shipping Information\n",
      "Company Name Name\n",
      "ABC Company John Smith Sam K. Smith\n",
      "Address Address\n",
      "111 Pine Street, Suite 1815 111 Pine Street, Suite 1815\n",
      "San Francisco, CA, 94111 San Francisco, CA, 94111\n",
      "Phone Number\n",
      "(123) 123-1232\n",
      "Email\n",
      "John@example.com\n",
      "Description Quantity Unit Price Total\n",
      "Product/Service 1 Sink 2 100 $200\n",
      "Product/Service 2 Nest Smart Filter 1 150 $150\n",
      "Product/Service 3 Labor Fee 1 50 $50\n",
      "Product/Service 4 Service Fee 1 25 $25\n",
      "\n",
      "Total: $425\n",
      "\n",
      "\n"
     ]
    }
   ],
   "source": [
    "import cv2\n",
    "import pytesseract\n",
    "import re\n",
    "import os\n",
    "\n",
    "\n",
    "pytesseract.pytesseract.tesseract_cmd = r\"C:\\Program Files\\Tesseract-OCR\\tesseract.exe\" \n",
    "def extract_text_from_image(image_path):\n",
    "    \n",
    "    if not os.path.exists(image_path):\n",
    "        raise FileNotFoundError(f\"Error: The file '{image_path}' does not exist.\")\n",
    "    # Read the image\n",
    "    img = cv2.imread(image_path)\n",
    "\n",
    "    # Convert to grayscale for better OCR accuracy\n",
    "    gray = cv2.cvtColor(img, cv2.COLOR_BGR2GRAY)\n",
    "\n",
    "    # Apply thresholding to improve text visibility\n",
    "    gray = cv2.threshold(gray, 0, 255, cv2.THRESH_BINARY + cv2.THRESH_OTSU)[1]\n",
    "    # Perform OCR\n",
    "    text = pytesseract.image_to_string(gray)\n",
    "    return text\n",
    "\n",
    "def extract_specific_data(text):\n",
    "    # Example: Extract email, phone number, and date\n",
    "    email_pattern = r\"[a-zA-Z0-9._%+-]+@[a-zA-Z0-9.-]+\\.[a-zA-Z]{2,}\"\n",
    "    phone_pattern = r\"\\b\\d{10}\\b\"  # Matches a 10-digit phone number\n",
    "    date_pattern = r\"\\b\\d{1,2}[/-]\\d{1,2}[/-]\\d{4}\\b\"  # Matches DD-MM-YYYY or MM/DD/YYYY\n",
    "\n",
    "    email = re.findall(email_pattern, text)\n",
    "    phone_numbers = re.findall(phone_pattern, text)\n",
    "    dates = re.findall(date_pattern, text)\n",
    "\n",
    "    return {\n",
    "        \"Emails\": email,\n",
    "        \"Phone Numbers\": phone_numbers,\n",
    "        \"Dates\": dates\n",
    "    }\n",
    "\n",
    "if __name__ == \"__main__\":\n",
    "    image_path = \"test2/etc/jupyter/invoice3.png\"  # Change this to your image file\n",
    "\n",
    "    # Extract text from image\n",
    "    extracted_text = extract_text_from_image(image_path)\n",
    "    print(\"Extracted Text:\\n\", extracted_text)\n",
    "\n",
    "    # Extract specific data\n",
    "    # extracted_data = extract_specific_data(extracted_text)\n",
    "    # print(\"\\nExtracted Data:\", extracted_data)"
   ]
  },
  {
   "cell_type": "code",
   "execution_count": null,
   "id": "5ad31eb0-c536-4ef6-846b-66013869c2a6",
   "metadata": {},
   "outputs": [],
   "source": []
  },
  {
   "cell_type": "code",
   "execution_count": null,
   "id": "b631b1b3-415d-4016-856b-a293d3f282d7",
   "metadata": {},
   "outputs": [],
   "source": []
  }
 ],
 "metadata": {
  "kernelspec": {
   "display_name": "Python 3 (ipykernel)",
   "language": "python",
   "name": "python3"
  },
  "language_info": {
   "codemirror_mode": {
    "name": "ipython",
    "version": 3
   },
   "file_extension": ".py",
   "mimetype": "text/x-python",
   "name": "python",
   "nbconvert_exporter": "python",
   "pygments_lexer": "ipython3",
   "version": "3.13.1"
  }
 },
 "nbformat": 4,
 "nbformat_minor": 5
}
